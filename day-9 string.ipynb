{
  "nbformat": 4,
  "nbformat_minor": 0,
  "metadata": {
    "kernelspec": {
      "display_name": "Python 3",
      "language": "python",
      "name": "python3"
    },
    "language_info": {
      "codemirror_mode": {
        "name": "ipython",
        "version": 3
      },
      "file_extension": ".py",
      "mimetype": "text/x-python",
      "name": "python",
      "nbconvert_exporter": "python",
      "pygments_lexer": "ipython3",
      "version": "3.7.1"
    },
    "colab": {
      "name": "string.ipynb",
      "provenance": []
    }
  },
  "cells": [
    {
      "cell_type": "code",
      "metadata": {
        "id": "VX4QgttigQti",
        "outputId": "5ca05c59-967d-4b44-93f5-77e170d935c5"
      },
      "source": [
        "a = \"Hello World\"\n",
        "print(type(a))\n",
        "print(a)"
      ],
      "execution_count": null,
      "outputs": [
        {
          "output_type": "stream",
          "text": [
            "<class 'str'>\n",
            "Hello World\n"
          ],
          "name": "stdout"
        }
      ]
    },
    {
      "cell_type": "code",
      "metadata": {
        "id": "0Kds_ApQgQtx",
        "outputId": "47e84d02-ce75-4bc5-9cf7-9c5a2c180f84"
      },
      "source": [
        "# + *\n",
        "a = \"Hello \"\n",
        "b = \"World\"\n",
        "print(a+b)"
      ],
      "execution_count": null,
      "outputs": [
        {
          "output_type": "stream",
          "text": [
            "Hello World\n"
          ],
          "name": "stdout"
        }
      ]
    },
    {
      "cell_type": "code",
      "metadata": {
        "id": "BS1psOy_gQtz",
        "outputId": "c1acff91-5a1b-41cd-e1b8-c183cfea379a"
      },
      "source": [
        "a = \"Hello World\\n\"\n",
        "print(a*2)"
      ],
      "execution_count": null,
      "outputs": [
        {
          "output_type": "stream",
          "text": [
            "Hello World\n",
            "Hello World\n",
            "\n"
          ],
          "name": "stdout"
        }
      ]
    },
    {
      "cell_type": "code",
      "metadata": {
        "id": "92F_Cx43tL4I",
        "outputId": "fd84612c-e9ea-4d36-8d8c-a2000e8e2e39",
        "colab": {
          "base_uri": "https://localhost:8080/",
          "height": 178
        }
      },
      "source": [
        "a = \"Aakash Shah\"\r\n",
        "print(a+1)"
      ],
      "execution_count": 1,
      "outputs": [
        {
          "output_type": "error",
          "ename": "TypeError",
          "evalue": "ignored",
          "traceback": [
            "\u001b[0;31m---------------------------------------------------------------------------\u001b[0m",
            "\u001b[0;31mTypeError\u001b[0m                                 Traceback (most recent call last)",
            "\u001b[0;32m<ipython-input-1-bdf8768fb181>\u001b[0m in \u001b[0;36m<module>\u001b[0;34m()\u001b[0m\n\u001b[1;32m      1\u001b[0m \u001b[0ma\u001b[0m \u001b[0;34m=\u001b[0m \u001b[0;34m\"Aakash Shah\"\u001b[0m\u001b[0;34m\u001b[0m\u001b[0;34m\u001b[0m\u001b[0m\n\u001b[0;32m----> 2\u001b[0;31m \u001b[0mprint\u001b[0m\u001b[0;34m(\u001b[0m\u001b[0ma\u001b[0m\u001b[0;34m+\u001b[0m\u001b[0;36m1\u001b[0m\u001b[0;34m)\u001b[0m\u001b[0;34m\u001b[0m\u001b[0;34m\u001b[0m\u001b[0m\n\u001b[0m",
            "\u001b[0;31mTypeError\u001b[0m: can only concatenate str (not \"int\") to str"
          ]
        }
      ]
    },
    {
      "cell_type": "code",
      "metadata": {
        "id": "NUIq2ufVgQt0",
        "outputId": "f427ff54-f1fd-46b9-b7fa-cd5efa1e6ca5"
      },
      "source": [
        "a = \"Hello World\"\n",
        "a[0]"
      ],
      "execution_count": null,
      "outputs": [
        {
          "output_type": "execute_result",
          "data": {
            "text/plain": [
              "'H'"
            ]
          },
          "metadata": {
            "tags": []
          },
          "execution_count": 9
        }
      ]
    },
    {
      "cell_type": "code",
      "metadata": {
        "id": "hXZ41GyXgQt1",
        "outputId": "9105006c-e70c-4163-a648-6793c27942c7"
      },
      "source": [
        "a = \"Hello World\"\n",
        "a[0:5]"
      ],
      "execution_count": null,
      "outputs": [
        {
          "output_type": "execute_result",
          "data": {
            "text/plain": [
              "'Hello'"
            ]
          },
          "metadata": {
            "tags": []
          },
          "execution_count": 11
        }
      ]
    },
    {
      "cell_type": "code",
      "metadata": {
        "id": "-10ELZNEgQt3",
        "outputId": "059a2340-c5ca-4fc0-d59e-6e776e145b98"
      },
      "source": [
        "a = \"Hello World\"\n",
        "a[0:10:2]"
      ],
      "execution_count": null,
      "outputs": [
        {
          "output_type": "execute_result",
          "data": {
            "text/plain": [
              "'HloWr'"
            ]
          },
          "metadata": {
            "tags": []
          },
          "execution_count": 12
        }
      ]
    },
    {
      "cell_type": "code",
      "metadata": {
        "id": "DqRVUc_cgQt3",
        "outputId": "97653c34-435b-4133-c986-fb7e7b14320d"
      },
      "source": [
        "a = \"Hello World\"\n",
        "a[10::-1]"
      ],
      "execution_count": null,
      "outputs": [
        {
          "output_type": "execute_result",
          "data": {
            "text/plain": [
              "'dlroW olleH'"
            ]
          },
          "metadata": {
            "tags": []
          },
          "execution_count": 14
        }
      ]
    },
    {
      "cell_type": "code",
      "metadata": {
        "id": "eBPgO2aegQt4",
        "outputId": "6f27ea75-1dd7-443c-e35e-d3888a2a39f9"
      },
      "source": [
        "a = \"Python\"\n",
        "for i in a:\n",
        "    print(i,end = \" \")"
      ],
      "execution_count": null,
      "outputs": [
        {
          "output_type": "stream",
          "text": [
            "P y t h o n "
          ],
          "name": "stdout"
        }
      ]
    },
    {
      "cell_type": "code",
      "metadata": {
        "id": "C6v3eg0AgQt5",
        "outputId": "4a268f9e-16db-4e1d-d763-34a5085a52eb"
      },
      "source": [
        "a = \"Python\"#because python has 6 character so that i=5\n",
        "for i in a:\n",
        "    print(\"Hello World\")"
      ],
      "execution_count": null,
      "outputs": [
        {
          "output_type": "stream",
          "text": [
            "Hello World\n",
            "Hello World\n",
            "Hello World\n",
            "Hello World\n",
            "Hello World\n",
            "Hello World\n"
          ],
          "name": "stdout"
        }
      ]
    },
    {
      "cell_type": "code",
      "metadata": {
        "id": "BITIxI0pgQt6",
        "outputId": "9db2bfcf-6a1f-4aed-e294-020afd3c4913"
      },
      "source": [
        "a = input(\"Enter The value of a = \")\n",
        "type(a)"
      ],
      "execution_count": null,
      "outputs": [
        {
          "output_type": "stream",
          "text": [
            "Enter The value of a = 10\n"
          ],
          "name": "stdout"
        },
        {
          "output_type": "execute_result",
          "data": {
            "text/plain": [
              "str"
            ]
          },
          "metadata": {
            "tags": []
          },
          "execution_count": 18
        }
      ]
    },
    {
      "cell_type": "code",
      "metadata": {
        "id": "tCjrDy_ogQt6",
        "outputId": "0c98386c-0e31-447f-ec54-b565f05990e3"
      },
      "source": [
        "# string formatting\n",
        "data = \"\"\n",
        "n = int(input(\"Enter n = \"))\n",
        "for i in range(n):\n",
        "    name = input(\"Enter name = \")\n",
        "    age = int(input(\"Enter age =\"))\n",
        "    add = input(\"Enter address = \")\n",
        "    info = f\"Hello I am {name}.I am from {add}. I am {age}\\n\"\n",
        "    #f = string formating in which we can concatenate strings,integers and many more with {}\n",
        "    data = data+info\n",
        "    \n",
        "print(data)"
      ],
      "execution_count": null,
      "outputs": [
        {
          "output_type": "stream",
          "text": [
            "Enter n = 2\n",
            "Enter name = dsfasdfds\n",
            "Enter age =2432\n",
            "Enter address = sdfsdf\n",
            "Enter name = dsfsfsd\n",
            "Enter age =324\n",
            "Enter address = sdfsd\n",
            "Hello I am dsfasdfds.I am from sdfsdf. I am 2432\n",
            "Hello I am dsfsfsd.I am from sdfsd. I am 324\n",
            "\n"
          ],
          "name": "stdout"
        }
      ]
    },
    {
      "cell_type": "code",
      "metadata": {
        "id": "zofliQG6gQt7",
        "outputId": "132ee438-a044-4582-cbf0-4acdace81ad5"
      },
      "source": [
        "print(info)"
      ],
      "execution_count": null,
      "outputs": [
        {
          "output_type": "stream",
          "text": [
            "Hello I am sfsdsd.I am from sdfsd. I am 234\n"
          ],
          "name": "stdout"
        }
      ]
    },
    {
      "cell_type": "code",
      "metadata": {
        "id": "2mdP9SzngQt8",
        "outputId": "152d4251-feaa-427d-ac7b-c00b53beb5d7"
      },
      "source": [
        "a = \"Hello World I am Python.\"\n",
        "if \"Python\" in a:\n",
        "    print(\"Yes\")"
      ],
      "execution_count": null,
      "outputs": [
        {
          "output_type": "stream",
          "text": [
            "Yes\n"
          ],
          "name": "stdout"
        }
      ]
    },
    {
      "cell_type": "code",
      "metadata": {
        "id": "xQGBOJobgQt8",
        "outputId": "3db245f1-e208-43d7-a214-92002fd6de7d"
      },
      "source": [
        "a.count(\"Python\")"
      ],
      "execution_count": null,
      "outputs": [
        {
          "output_type": "execute_result",
          "data": {
            "text/plain": [
              "1"
            ]
          },
          "metadata": {
            "tags": []
          },
          "execution_count": 26
        }
      ]
    },
    {
      "cell_type": "code",
      "metadata": {
        "id": "EP7l3rH7gQt_",
        "outputId": "f18edd2d-512e-4aee-d8ff-223fc7a77ad3"
      },
      "source": [
        "a = \"Hello World I am Python.\"\n",
        "search = input(\"Enter any value for search = \")\n",
        "if search in a:\n",
        "    print(\"Yes\")\n",
        "    print(f\"{search} in a is =\",a.count(search))"
      ],
      "execution_count": null,
      "outputs": [
        {
          "output_type": "stream",
          "text": [
            "Enter any value for search = Python\n",
            "Yes\n",
            "Python in a is = 1\n"
          ],
          "name": "stdout"
        }
      ]
    },
    {
      "cell_type": "code",
      "metadata": {
        "id": "wjhj1wRygQuA",
        "outputId": "59ba5160-274c-4a23-a155-d47ad0f4daf8"
      },
      "source": [
        "a = \"Hello World\"\n",
        "print(a.upper())\n",
        "print(a.lower())"
      ],
      "execution_count": null,
      "outputs": [
        {
          "output_type": "stream",
          "text": [
            "HELLO WORLD\n",
            "hello world\n"
          ],
          "name": "stdout"
        }
      ]
    },
    {
      "cell_type": "code",
      "metadata": {
        "id": "bwAqqtbngQuB",
        "outputId": "f5a55f57-1d21-48d9-9ce7-28fa695cb672"
      },
      "source": [
        "a = \"Hello World I am Python.\"\n",
        "search = input(\"Enter any value for search = \")\n",
        "a_lower = a.lower()\n",
        "lower_search = search.lower()\n",
        "if lower_search in a_lower:\n",
        "    print(\"Yes\")\n",
        "    print(f\"{search} in a is =\",a_lower.count(lower_search))"
      ],
      "execution_count": null,
      "outputs": [
        {
          "output_type": "stream",
          "text": [
            "Enter any value for search = PyThon\n",
            "Yes\n",
            "PyThon in a is = 1\n"
          ],
          "name": "stdout"
        }
      ]
    },
    {
      "cell_type": "code",
      "metadata": {
        "id": "I5jZr_4HgQuB",
        "outputId": "de9f62fe-d4e9-48bc-e85f-4315d5b3920c",
        "colab": {
          "base_uri": "https://localhost:8080/"
        }
      },
      "source": [
        "# a.replace('initial value','final value')\n",
        "a = \"Hello World I am Python.\"\n",
        "search = input(\"Enter any value for search = \")\n",
        "replace_with =  input(\"Enter any value for replace = \")\n",
        "b = a.replace(search,replace_with)  #syntax for replace\n",
        "print(b)"
      ],
      "execution_count": 4,
      "outputs": [
        {
          "output_type": "stream",
          "text": [
            "Enter any value for search = Python\n",
            "Enter any value for replace = Aakash\n",
            "Hello World I am Aakash.\n"
          ],
          "name": "stdout"
        }
      ]
    },
    {
      "cell_type": "code",
      "metadata": {
        "id": "6G_et7K7gQuC",
        "outputId": "2df70185-2155-495f-d2f9-a7b6c8f40be8"
      },
      "source": [
        "a = \"Hello World I am Python.\"\n",
        "search = input(\"Enter any value for search = \")\n",
        "replace_with =  input(\"Enter any value for replce = \")\n",
        "a_lower = a.lower()\n",
        "lower_search = search.lower()\n",
        "if lower_search in a_lower:\n",
        "    print(\"Yes\")\n",
        "    b = a_lower.replace(lower_search,replace_with)\n",
        "    print(b)"
      ],
      "execution_count": null,
      "outputs": [
        {
          "output_type": "stream",
          "text": [
            "Enter any value for search = python\n",
            "Enter any value for replce = Java\n",
            "Yes\n",
            "hello world i am Java.\n"
          ],
          "name": "stdout"
        }
      ]
    },
    {
      "cell_type": "code",
      "metadata": {
        "id": "zCkl0j6xgQuD",
        "outputId": "5e15c7b5-2d91-4648-f575-97cb0b940f4c"
      },
      "source": [
        "a = \"Hello World I am Python.\"\n",
        "b = a.replace(\"Python\",\"\")\n",
        "b"
      ],
      "execution_count": null,
      "outputs": [
        {
          "output_type": "execute_result",
          "data": {
            "text/plain": [
              "'Hello World I am .'"
            ]
          },
          "metadata": {
            "tags": []
          },
          "execution_count": 41
        }
      ]
    },
    {
      "cell_type": "code",
      "metadata": {
        "id": "WmF3OVgYgQuD",
        "outputId": "c6b62938-306b-44c4-a448-f294033dc215"
      },
      "source": [
        "data = \"\"\n",
        "n = int(input(\"Enter n = \"))\n",
        "for i in range(1,n+1):\n",
        "    name = input(\"Enter name = \")\n",
        "    age = int(input(\"Enter age =\"))\n",
        "    add = input(\"Enter address = \")\n",
        "    info = f\"{i} {name} {add} {age}\\n\"\n",
        "    data = data+info\n",
        "    \n",
        "print(data)"
      ],
      "execution_count": null,
      "outputs": [
        {
          "output_type": "stream",
          "text": [
            "Enter n = 2\n",
            "Enter name = Ram\n",
            "Enter age =34\n",
            "Enter address = Patan\n",
            "Enter name = Shyam\n",
            "Enter age =34\n",
            "Enter address = Kathmandu\n",
            "1 Ram Patan 34\n",
            "2 Shyam Kathmandu 34\n",
            "\n"
          ],
          "name": "stdout"
        }
      ]
    },
    {
      "cell_type": "code",
      "metadata": {
        "id": "jqAa3vUfgQuF",
        "outputId": "212adaab-0088-4fb8-e3ca-af8e6ec567ea"
      },
      "source": [
        "b = data.replace(\"Ram Patan\",\"Sita Bhaktapur\")\n",
        "print(b)"
      ],
      "execution_count": null,
      "outputs": [
        {
          "output_type": "stream",
          "text": [
            "1 Sita Bhaktapur 34\n",
            "2 Shyam Kathmandu 34\n",
            "\n"
          ],
          "name": "stdout"
        }
      ]
    },
    {
      "cell_type": "code",
      "metadata": {
        "id": "TZ_gZVjWgQuF",
        "outputId": "2a497770-8ebd-4a36-ce08-6eb883297cc5"
      },
      "source": [
        "c = b.split('\\n')\n",
        "c"
      ],
      "execution_count": null,
      "outputs": [
        {
          "output_type": "execute_result",
          "data": {
            "text/plain": [
              "['1 Sita Bhaktapur 34', '2 Shyam Kathmandu 34', '']"
            ]
          },
          "metadata": {
            "tags": []
          },
          "execution_count": 20
        }
      ]
    },
    {
      "cell_type": "code",
      "metadata": {
        "id": "h_csU-m3gQuG",
        "outputId": "351efda3-104e-4a56-e33d-f469aed57219"
      },
      "source": [
        "c[0]"
      ],
      "execution_count": null,
      "outputs": [
        {
          "output_type": "execute_result",
          "data": {
            "text/plain": [
              "'1 Sita Bhaktapur 34'"
            ]
          },
          "metadata": {
            "tags": []
          },
          "execution_count": 21
        }
      ]
    },
    {
      "cell_type": "code",
      "metadata": {
        "id": "JzWKquuXgQuH",
        "outputId": "789ecde4-aa3a-4e50-af24-39b689d8569b"
      },
      "source": [
        "a = \"Apple Ball\"\n",
        "b =a.split()\n",
        "b"
      ],
      "execution_count": null,
      "outputs": [
        {
          "output_type": "execute_result",
          "data": {
            "text/plain": [
              "['Apple', 'Ball']"
            ]
          },
          "metadata": {
            "tags": []
          },
          "execution_count": 12
        }
      ]
    },
    {
      "cell_type": "code",
      "metadata": {
        "id": "vKVD7x2tgQuH",
        "outputId": "88561cdf-ffcf-417d-8a16-65b14044ef8b"
      },
      "source": [
        "a = \"Apple.Ball\"\n",
        "a.split('.')"
      ],
      "execution_count": null,
      "outputs": [
        {
          "output_type": "execute_result",
          "data": {
            "text/plain": [
              "['Apple', 'Ball']"
            ]
          },
          "metadata": {
            "tags": []
          },
          "execution_count": 19
        }
      ]
    },
    {
      "cell_type": "code",
      "metadata": {
        "id": "0d0qCnJigQuI"
      },
      "source": [
        ""
      ],
      "execution_count": null,
      "outputs": []
    }
  ]
}